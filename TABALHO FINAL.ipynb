{
 "cells": [
  {
   "cell_type": "markdown",
   "id": "efe71e3f",
   "metadata": {},
   "source": [
    "# 📽️ **trabalho final**  \n",
   ]
  },
  {
   "cell_type": "code",
   "execution_count": null,
   "id": "463426c2",
   "metadata": {},
   "outputs": [],
   "source": [
   ]
  },
  {
   "cell_type": "code",
   "execution_count": null,
   "id": "21698c3d",
   "metadata": {},
   "outputs": [],
   "source": [
    "# 2. Importação de bibliotecas\n",
    "import moviepy.editor as mpe\n",
    "import numpy as np\n",
    "import os\n",
    "from IPython.display import HTML, display"
   ]
  },
  {
   "cell_type": "code",
   "execution_count": null,
   "id": "e0b04df3",
   "metadata": {},
   "outputs": [],
   "source": [
    "# 3. Carregar o vídeo\n",
    "video_path = \"/home/jose/Área de trabalho/Kawan/trabalho final/600ce667-5571-41a9-be49-d6f490329c6c.mp4\"\n",
    "output_path = \"/home/jose/Área de trabalho/Kawan/trabalho final/video_final2.mp4\"\n",
    "\n",
    "# Verifica se o arquivo existe\n",
    "if not os.path.exists(video_path):\n",
    "    raise FileNotFoundError(f\"Arquivo não encontrado: {video_path}\")\n",
    "\n",
    "video = mpe.VideoFileClip(video_path)\n",
    "print(f\"Vídeo carregado! Duração: {video.duration}s | Resolução: {video.size}\")"
   ]
  },
  {
   "cell_type": "code",
   "execution_count": null,
   "id": "4272e980",
   "metadata": {},
   "outputs": [],
   "source": [
    "# 4. Função para inverter frames verticalmente\n",
    "def invert_axis(clip):\n",
    "    \"\"\"Inverte os frames verticalmente.\"\"\"\n",
    "    return clip.fl_image(lambda frame: np.flipud(frame))"
   ]
  },
  {
   "cell_type": "code",
   "execution_count": null,
   "id": "bce88a3d",
   "metadata": {},
   "outputs": [],
   "source": [
    "# 5. Dividir o vídeo em chunks e inverter alternadamente\n",
    "chunks = []\n",
    "for i in range(0, int(video.duration), 20):\n",
    "    chunk = video.subclip(i, min(i + 20, video.duration))\n",
    "    if (i // 20) % 2 == 1:  # Inverte a cada 20 segundos\n",
    "        chunk = invert_axis(chunk)\n",
    "    chunks.append(chunk)\n",
    "\n",
    "video_inverted = mpe.concatenate_videoclips(chunks)"
   ]
  },
  {
   "cell_type": "code",
   "execution_count": null,
   "id": "3bc1171c",
   "metadata": {},
   "outputs": [],
   "source": [
    "# 6. Aplicar fadeout no áudio\n",
    "def gradual_volume(clip):\n",
    "    \"\"\"Reduz o volume gradualmente nos últimos 10 segundos.\"\"\"\n",
    "    def audio_fadeout(get_audio, t):\n",
    "        audio = get_audio(t)\n",
    "        volume_factor = np.clip(1 - t / (clip.duration - 10), 0, 1)\n",
    "        if audio.ndim > 1:\n",
    "            volume_factor = volume_factor[:, np.newaxis]\n",
    "        return audio * volume_factor\n",
    "\n",
    "    if clip.audio is not None:\n",
    "        return clip.set_audio(clip.audio.fl(audio_fadeout))\n",
    "    else:\n",
    "        print(\"⚠️ Clipe sem áudio. Ignorando fadeout.\")\n",
    "        return clip\n",
    "\n",
    "video_with_audio = gradual_volume(video_inverted)"
   ]
  },
  {
   "cell_type": "code",
   "execution_count": null,
   "id": "f5ae3f20",
   "metadata": {},
   "outputs": [],
   "source": [
    "# 7. Cortar e reordenar partes do vídeo\n",
    "# Corta os segundos 60-80 e move para o final\n",
    "part_to_cut = video_with_audio.subclip(60, 80)\n",
    "remaining_video = mpe.concatenate_videoclips([\n",
    "    video_with_audio.subclip(0, 60),\n",
    "    video_with_audio.subclip(80, video_with_audio.duration)\n",
    "])\n",
    "\n",
    "final_video = mpe.concatenate_videoclips([remaining_video, part_to_cut])"
   ]
  },
  {
   "cell_type": "code",
   "execution_count": null,
   "id": "c054b08f",
   "metadata": {},
   "outputs": [],
   "source": [
    "# 8. Exportar o vídeo final\n",
    "try:\n",
    "    final_video.write_videofile(\n",
    "        output_path,\n",
    "        codec=\"libx264\",\n",
    "        audio_codec=\"aac\",\n",
    "        threads=4,  # Acelera a renderização\n",
    "        preset=\"medium\",  # Balanceia qualidade/velocidade\n",
    "        ffmpeg_params=[\"-crf\", \"23\"]  # Controla a qualidade (0-51, menor = melhor)\n",
    "    )\n",
    "    print(f\"✅ Vídeo exportado: {output_path}\")\n",
    "except Exception as e:\n",
    "    print(f\"❌ Erro na exportação: {e}\")"
   ]
  },
  {
   "cell_type": "code",
   "execution_count": null,
   "id": "c876ffdb",
   "metadata": {},
   "outputs": [],
   "source": [
    "# 9. Visualizar o resultado no notebook\n",
    "if os.path.exists(output_path):\n",
    "    display(HTML(f\"\"\"\n",
    "    <video width=\"600\" controls>\n",
    "        <source src=\"{output_path}\" type=\"video/mp4\">\n",
    "    </video>\n",
    "    \"\"\"))\n",
    "else:\n",
    "    print(\"Vídeo não encontrado para visualização.\")"
   ]
  }
 ],
 "metadata": {},
 "nbformat": 4,
 "nbformat_minor": 5
}
